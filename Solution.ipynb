{
 "cells": [
  {
   "cell_type": "code",
   "execution_count": 1,
   "metadata": {},
   "outputs": [],
   "source": [
    "from GeneticAlgorithm import GeneticAlgorithm"
   ]
  },
  {
   "cell_type": "markdown",
   "metadata": {},
   "source": [
    "**Problem:** znajdź maksimum funkcji \n",
    "$ f(x, y) = -x^2 + y^2 - 2xy$\n",
    "dla podanej dziedziny:\n",
    "$ x, y  \\epsilon <-8,8> $"
   ]
  },
  {
   "cell_type": "code",
   "execution_count": 2,
   "metadata": {},
   "outputs": [],
   "source": [
    "def adaptation_function(x, y):\n",
    "    return -pow(x,2) + pow(y,2) - 2*x*y"
   ]
  },
  {
   "cell_type": "markdown",
   "metadata": {},
   "source": [
    "### Opis parametrów klasy algorytmu\n",
    "- adaptation_function - funkcja której maksimum jest obliczane\n",
    "- number_of_individuals: int - ilość osobników w populacji (wartość parzysta)\n",
    "- ax, bx - minimalna i maksymalna wartość x\n",
    "- ay, by - minimalna i maksymalna wartość y\n",
    "- selection_type: str 'ranking' or 'roulette_wheel' - typ selekcji (rankingowa, koło ruletki)\n",
    "- n_best_individuals: int - wartość używana jedynie, gdy wybrano selekcję rankingową, musi być mniejsza niż połowa ilości osobników w populacji\n",
    "- pk: float - prawdopodobieństwo zajścia crossing-over\n",
    "- k: int - ilość punktów, dla których zachodzi crossing-over\n",
    "- order_established: bool, - w przypadku wartości True kolejne fragmenty materiału genetycznego są dziedziczone na zmianę, w przypadku wartości False - losowo\n",
    "- pm: float - prawdopodobieństwo zajścia mutacji w chromosomie\n",
    "- m - ilość punktów, w których zachodzi mutacja\n",
    "- stop_condition: str 'number_of_iterations' or 'function_value' or 'percent_of_bests' - warunek stopu (liczba iteracji lub wartość funcji lub procent najlepszych)\n",
    "- iterations: int - ilość iteracji, w przypadku wybrania warunku stopu: ilość iteracji\n",
    "- stop_function_value: float - wartość funkcji, po osiągnięciu której algorytm zostaje zatrzymany, używana tylko w przypadku wybrania warunku stopu 'function_value' lub 'percent_of_bests'\n",
    "- percent_of_bests: float from range (0, 1] - procent najlepszych osobników, który musi zostać spełniony do zatrzymania algorytmu w przypadku zastosowania warunku stopu 'percent_of_bests'\n",
    "- genotype_representation: reprezentacja genotypu, do wyboru: '8-bit' lub '16-bit'"
   ]
  },
  {
   "cell_type": "markdown",
   "metadata": {},
   "source": [
    "## Wykorzystanie algorytmu genetycznego z selekcją rankingową i warnkiem stopu: liczba pokoleń"
   ]
  },
  {
   "cell_type": "code",
   "execution_count": 3,
   "metadata": {},
   "outputs": [],
   "source": [
    "number_of_individuals = 1000\n",
    "# ax, bx, ay, by to granice dziedziny dla obu zmiennych\n",
    "ax = -8\n",
    "bx = 8\n",
    "ay = -8\n",
    "by = 8\n",
    "selection_type = 'ranking'\n",
    "n_best_individuals = 250 #Podczas selekcji tylu osobników najgorszych jest zastępowanych najlepszymi\n",
    "pk = 0.7\n",
    "k = 3\n",
    "order_established = True #Kolejność dziedziczenia materiału genetycznego jest z góry ustalona\n",
    "pm = 0.1\n",
    "m = 2\n",
    "stop_condition = 'number_of_iterations'\n",
    "iterations = 50\n",
    "\n",
    "# Tworzę populację dla wybranych parametrów:\n",
    "population = GeneticAlgorithm(adaptation_function, number_of_individuals, \n",
    "                             ax, bx, ay, by, selection_type, n_best_individuals,\n",
    "                             pk, k, order_established, pm, m, stop_condition,\n",
    "                             iterations)"
   ]
  },
  {
   "cell_type": "code",
   "execution_count": 4,
   "metadata": {},
   "outputs": [],
   "source": [
    "# Obliczam maksymalną wartość funkcji po 50 iteracji - jest to wartość\n",
    "# funkcji adaptacji dla najlepiej przystosowanego osobnika\n",
    "x, y, f = population.get_result()"
   ]
  },
  {
   "cell_type": "code",
   "execution_count": 5,
   "metadata": {},
   "outputs": [
    {
     "name": "stdout",
     "output_type": "stream",
     "text": [
      "x:  -8 \n",
      "y:  8 \n",
      "f:  128\n"
     ]
    }
   ],
   "source": [
    "print(\"x: \", x, \"\\ny: \", y, \"\\nf: \", f)"
   ]
  },
  {
   "cell_type": "markdown",
   "metadata": {},
   "source": [
    "## Wykorzystanie algorytmu genetycznego z selekcją rankingową i warnkiem stopu: docelowa wartość funkcji"
   ]
  },
  {
   "cell_type": "code",
   "execution_count": 6,
   "metadata": {},
   "outputs": [],
   "source": [
    "stop_condition = 'function_value'\n",
    "stop_function_value = 128\n",
    "population2 = GeneticAlgorithm(adaptation_function, number_of_individuals, \n",
    "                             ax, bx, ay, by, selection_type, n_best_individuals,\n",
    "                             pk, k, order_established, pm, m, stop_condition,\n",
    "                             stop_function_value)"
   ]
  },
  {
   "cell_type": "code",
   "execution_count": 7,
   "metadata": {},
   "outputs": [
    {
     "name": "stdout",
     "output_type": "stream",
     "text": [
      "x:  8 \n",
      "y:  -8.0 \n",
      "f:  128.0\n"
     ]
    }
   ],
   "source": [
    "x2, y2, f2 = population2.get_result()\n",
    "print(\"x: \", x2, \"\\ny: \", y2, \"\\nf: \", f2)"
   ]
  },
  {
   "cell_type": "markdown",
   "metadata": {},
   "source": [
    "## Wykorzystanie algorytmu genetycznego z selekcją rankingową i warnkiem stopu: % najlepszych osobników w populacji"
   ]
  },
  {
   "cell_type": "code",
   "execution_count": 8,
   "metadata": {},
   "outputs": [],
   "source": [
    "stop_condition = 'percent_of_bests'\n",
    "stop_function_value = 100\n",
    "percent_of_bests = 0.1\n",
    "selection_type = 'ranking'\n",
    "n_best_individuals = 250\n",
    "number_of_individuals = 1000\n",
    "population3 = GeneticAlgorithm(adaptation_function, number_of_individuals, \n",
    "                             ax, bx, ay, by, selection_type, n_best_individuals,\n",
    "                             pk, k, order_established, pm, m, stop_condition,\n",
    "                             percent_of_bests, stop_function_value)"
   ]
  },
  {
   "cell_type": "code",
   "execution_count": 9,
   "metadata": {},
   "outputs": [
    {
     "name": "stdout",
     "output_type": "stream",
     "text": [
      "x:  8 \n",
      "y:  -8 \n",
      "f:  128\n"
     ]
    }
   ],
   "source": [
    "x3, y3, f3 = population3.get_result()\n",
    "print(\"x: \", x3, \"\\ny: \", y3, \"\\nf: \", f3)"
   ]
  },
  {
   "cell_type": "markdown",
   "metadata": {},
   "source": [
    "## Wykorzystanie algorytmu genetycznego z selekcją typu koło ruletki i warnkiem stopu: liczba pokoleń"
   ]
  },
  {
   "cell_type": "code",
   "execution_count": 10,
   "metadata": {},
   "outputs": [],
   "source": [
    "selection_type = 'roulette_wheel'\n",
    "stop_condition = 'number_of_iterations'\n",
    "iterations = 50\n",
    "population4 = GeneticAlgorithm(adaptation_function, number_of_individuals, \n",
    "                             ax, bx, ay, by, selection_type, n_best_individuals,\n",
    "                             pk, k, order_established, pm, m, stop_condition,\n",
    "                             iterations)"
   ]
  },
  {
   "cell_type": "code",
   "execution_count": 11,
   "metadata": {},
   "outputs": [
    {
     "name": "stdout",
     "output_type": "stream",
     "text": [
      "x:  8 \n",
      "y:  -8 \n",
      "f:  128\n"
     ]
    }
   ],
   "source": [
    "x4, y4, f4 = population4.get_result()\n",
    "print(\"x: \", x4, \"\\ny: \", y4, \"\\nf: \", f4)"
   ]
  },
  {
   "cell_type": "markdown",
   "metadata": {},
   "source": [
    "## Wykorzystanie algorytmu genetycznego z selekcją typu koło ruletki i warnkiem stopu: docelowa wartość funkcji"
   ]
  },
  {
   "cell_type": "code",
   "execution_count": 16,
   "metadata": {},
   "outputs": [],
   "source": [
    "stop_condition = 'function_value'\n",
    "stop_function_value = 200\n",
    "population5 = GeneticAlgorithm(adaptation_function, number_of_individuals, \n",
    "                             ax, bx, ay, by, selection_type, n_best_individuals,\n",
    "                             pk, k, order_established, pm, m, stop_condition,\n",
    "                             stop_function_value)"
   ]
  },
  {
   "cell_type": "code",
   "execution_count": 17,
   "metadata": {},
   "outputs": [
    {
     "name": "stdout",
     "output_type": "stream",
     "text": [
      "x:  8 \n",
      "y:  -8.0 \n",
      "f:  128.0\n"
     ]
    }
   ],
   "source": [
    "x5, y5, f5 = population5.get_result()\n",
    "print(\"x: \", x5, \"\\ny: \", y5, \"\\nf: \", f5)"
   ]
  },
  {
   "cell_type": "markdown",
   "metadata": {},
   "source": [
    "## Wykorzystanie algorytmu genetycznego z selekcją typu koło ruletki i warnkiem stopu: % najlepszych osobników w populacji"
   ]
  },
  {
   "cell_type": "code",
   "execution_count": 14,
   "metadata": {},
   "outputs": [],
   "source": [
    "stop_condition = 'percent_of_bests'\n",
    "stop_function_value = 100\n",
    "percent_of_bests = 0.1\n",
    "population6 = GeneticAlgorithm(adaptation_function, number_of_individuals, \n",
    "                             ax, bx, ay, by, selection_type, n_best_individuals,\n",
    "                             pk, k, order_established, pm, m, stop_condition,\n",
    "                             percent_of_bests, stop_function_value)"
   ]
  },
  {
   "cell_type": "code",
   "execution_count": 15,
   "metadata": {},
   "outputs": [
    {
     "name": "stdout",
     "output_type": "stream",
     "text": [
      "x:  8 \n",
      "y:  -8 \n",
      "f:  128\n"
     ]
    }
   ],
   "source": [
    "x6, y6, f6 = population6.get_result()\n",
    "print(\"x: \", x6, \"\\ny: \", y6, \"\\nf: \", f6)"
   ]
  },
  {
   "cell_type": "markdown",
   "metadata": {},
   "source": [
    "<div style='text-align: justify'>Wnioski: Maksymalna wartość funkcji w zadanym przedziale obliczona przez algorytm dla powyższych parametrów to 128.0. Funkcja osiąga tę wartość dla x=8 i y=-8 lub x=-8 i y=8.</div>"
   ]
  },
  {
   "cell_type": "code",
   "execution_count": null,
   "metadata": {},
   "outputs": [],
   "source": []
  }
 ],
 "metadata": {
  "kernelspec": {
   "display_name": "Python 3",
   "language": "python",
   "name": "python3"
  },
  "language_info": {
   "codemirror_mode": {
    "name": "ipython",
    "version": 3
   },
   "file_extension": ".py",
   "mimetype": "text/x-python",
   "name": "python",
   "nbconvert_exporter": "python",
   "pygments_lexer": "ipython3",
   "version": "3.7.6"
  }
 },
 "nbformat": 4,
 "nbformat_minor": 4
}
